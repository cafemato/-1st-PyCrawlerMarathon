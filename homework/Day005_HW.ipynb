{
 "cells": [
  {
   "cell_type": "markdown",
   "metadata": {},
   "source": [
    "# API 資料串接 - 以 Dcard API 實作範例\n",
    "\n",
    "* 利用 urllib 套件的 urlretrieve 方法下載檔案\n",
    "* 了解 Python File I/O 讀檔、寫檔的用法\n",
    "* 能用運用資源管理器 With Statement 優化寫法"
   ]
  },
  {
   "cell_type": "markdown",
   "metadata": {},
   "source": [
    "## 作業目標\n",
    "\n",
    "* 請利用 API: https://www.dcard.tw/_api/forums/pet/posts?popular=true 回答下列問題：\n",
    "\n",
    "1. 這個 API 一次會回傳幾筆資料？每一筆資料包含哪些欄位？\n",
    "2. 取出每一筆資料的「標題」、「貼文時間」、「留言人數」、「按讚人數」\n",
    "3. 計算熱門/非熱門文章的「平均留言人數」與「平均按讚人數」"
   ]
  },
  {
   "cell_type": "code",
   "execution_count": 12,
   "metadata": {},
   "outputs": [
    {
     "name": "stdout",
     "output_type": "stream",
     "text": [
      "一次回傳30筆資料\n"
     ]
    },
    {
     "data": {
      "text/plain": [
       "'\\n欄位包含：id, title, excerpt, anonymousSchool, anonymousDepartment, pinned, forumId,\\nreplyId, createdAt, updatedAt, commentCount, likeCount, withNickname, tags, topics,\\nmeta, forumName, forumAlias, gender, school, department, replyTitle, mediaMeta(id,\\nurl, normalizedUrl, thumbnail, type ,tags, createdAt, updatedAt)等\\n'"
      ]
     },
     "execution_count": 12,
     "metadata": {},
     "output_type": "execute_result"
    }
   ],
   "source": [
    "# 1. 這個 API 一次會回傳幾筆資料？每一筆資料包含哪些欄位？\n",
    "\n",
    "import requests\n",
    "import json\n",
    "\n",
    "r = requests.get('https://www.dcard.tw/_api/forums/pet/posts?popular=true')\n",
    "data = json.loads(r.text)\n",
    "\n",
    "print(\"一次回傳\"+str(len(data))+\"筆資料\")\n",
    "'''\n",
    "欄位包含：id, title, excerpt, anonymousSchool, anonymousDepartment, pinned, forumId,\n",
    "replyId, createdAt, updatedAt, commentCount, likeCount, withNickname, tags, topics,\n",
    "meta, forumName, forumAlias, gender, school, department, replyTitle, mediaMeta(id,\n",
    "url, normalizedUrl, thumbnail, type ,tags, createdAt, updatedAt)等欄位\n",
    "'''"
   ]
  },
  {
   "cell_type": "code",
   "execution_count": 13,
   "metadata": {},
   "outputs": [
    {
     "name": "stdout",
     "output_type": "stream",
     "text": [
      "找回失蹤狗狗😭 原來妳也在找我們 2019-11-29T22:33:34.440Z 40 1422\n",
      "#貓 #圖 我懷疑我家貓咪根本不覺得自己是貓咪 2019-11-29T15:01:23.745Z 27 1287\n",
      "高以翔的療癒系狗狗theo 2019-11-29T13:52:33.150Z 5 1113\n",
      "🐰誰說兔子不能碰水！兔子❤️海灘 2019-11-29T07:34:46.328Z 74 1113\n",
      "吸貓治百病 2019-11-29T06:53:05.300Z 14 437\n",
      "有愛的假兄弟 2019-11-29T04:09:24.480Z 0 70\n",
      "我家柴犬一系列照片 2019-11-29T05:02:04.820Z 4 50\n",
      "我家的貓每天睡覺前一定會做的事 2019-11-30T06:52:29.882Z 7 42\n",
      "囤貓囤起來😻/圖多文長 2019-11-29T03:41:19.070Z 6 39\n",
      "被擠床原來是一件幸福的事 2019-11-30T04:15:42.699Z 4 38\n",
      "有人要吸兔嗎？ 2019-11-30T04:58:10.195Z 14 36\n",
      "有貓快拜！！ 2019-11-30T03:07:22.599Z 1 35\n",
      "媽 晚餐好了沒 2019-11-30T10:42:58.582Z 2 31\n",
      "免費寵物溝通 2019-11-29T11:58:23.732Z 20 25\n",
      "虎斑狗想找寵物溝通師 2019-11-29T15:22:07.842Z 6 20\n",
      "限動裡的小三線們 2019-11-29T04:00:40.448Z 9 20\n",
      "求助！剛接回家的小貓生病了嗎 2019-11-29T13:35:26.621Z 3 19\n",
      "貓男友的拍照技術 2019-11-29T13:28:45.211Z 2 18\n",
      "貓咪走失了😭😭台中，水湳 2019-11-29T12:46:13.912Z 0 16\n",
      "限動滿滿的老鼠是怎樣 2019-11-29T09:05:18.406Z 20 16\n",
      "#柴 #影片 到底有多討厭洗澡 2019-11-30T03:24:55.897Z 0 15\n",
      "威~柯基你母湯喔 2019-11-29T09:44:50.199Z 0 15\n",
      "6個月小布偶貓 放臭屁 2019-11-29T15:56:00.789Z 7 14\n",
      "圖 厭世貓化石梗圖 2019-11-29T13:38:15.413Z 1 14\n",
      "白圍巾白手套橘貓❤️ 2019-11-30T07:44:14.420Z 6 12\n",
      "從可愛的小寶寶變成破壞王 2019-11-29T06:52:19.590Z 4 12\n",
      "貓咪尾巴狂抖是正常的嗎 2019-11-29T14:12:31.389Z 10 10\n",
      "就只知道睡 2019-11-29T12:25:50.680Z 2 10\n",
      "自己的主子最可愛 2019-11-29T05:09:30.489Z 1 10\n",
      "從沒想過山竹可以這麼可口ฅ 2019-11-30T10:24:08.529Z 3 9\n"
     ]
    },
    {
     "data": {
      "text/plain": [
       "'\\nYour Code\\n'"
      ]
     },
     "execution_count": 13,
     "metadata": {},
     "output_type": "execute_result"
    }
   ],
   "source": [
    "# 2. 取出每一筆資料的「標題」、「貼文時間」、「留言人數」、「按讚人數」\n",
    "\n",
    "for i in data:\n",
    "    print(i[\"title\"], i[\"createdAt\"], i[\"commentCount\"], i[\"likeCount\"])\n",
    "    "
   ]
  },
  {
   "cell_type": "code",
   "execution_count": 19,
   "metadata": {},
   "outputs": [
    {
     "name": "stdout",
     "output_type": "stream",
     "text": [
      "熱門文章的「平均留言人數」為9.733333333333333\n",
      "熱門文章的「平均按讚人數」為198.93333333333334\n",
      "非熱門文章的「平均留言人數」為1.5666666666666667\n",
      "非熱門文章的「平均留言人數」為5.933333333333334\n"
     ]
    }
   ],
   "source": [
    "# 3. 計算熱門/非熱門文章的「平均留言人數」與「平均按讚人數」\n",
    "\n",
    "total_commentCount = 0\n",
    "total_likeCount = 0\n",
    "#熱門文章\n",
    "for i in data:\n",
    "    total_commentCount += i[\"commentCount\"]\n",
    "    total_likeCount += i[\"likeCount\"]\n",
    "avg_commentCount = total_commentCount / len(data)\n",
    "avg_likeCount = total_likeCount / len(data)\n",
    "print(\"熱門文章的「平均留言人數」為\" + str(avg_commentCount))\n",
    "print(\"熱門文章的「平均按讚人數」為\" + str(avg_likeCount))\n",
    "\n",
    "\n",
    "r = requests.get('https://www.dcard.tw/_api/forums/pet/posts')\n",
    "data2 = json.loads(r.text)\n",
    "\n",
    "total_commentCount2 = 0\n",
    "total_likeCount2 = 0\n",
    "for i in data2:\n",
    "    total_commentCount2 += i[\"commentCount\"]\n",
    "    total_likeCount2 += i[\"likeCount\"]\n",
    "avg_commentCount2 = total_commentCount2 / len(data2)\n",
    "avg_likeCount2 = total_likeCount2 / len(data2)\n",
    "print(\"非熱門文章的「平均留言人數」為\" + str(avg_commentCount2))\n",
    "print(\"非熱門文章的「平均留言人數」為\" + str(avg_likeCount2))\n"
   ]
  },
  {
   "cell_type": "code",
   "execution_count": null,
   "metadata": {},
   "outputs": [],
   "source": []
  },
  {
   "cell_type": "code",
   "execution_count": null,
   "metadata": {},
   "outputs": [],
   "source": []
  }
 ],
 "metadata": {
  "kernelspec": {
   "display_name": "Python 3",
   "language": "python",
   "name": "python3"
  },
  "language_info": {
   "codemirror_mode": {
    "name": "ipython",
    "version": 3
   },
   "file_extension": ".py",
   "mimetype": "text/x-python",
   "name": "python",
   "nbconvert_exporter": "python",
   "pygments_lexer": "ipython3",
   "version": "3.7.3"
  }
 },
 "nbformat": 4,
 "nbformat_minor": 2
}
